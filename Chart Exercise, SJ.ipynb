{
 "cells": [
  {
   "cell_type": "markdown",
   "metadata": {},
   "source": [
    "## Data Cleaning and Analysis"
   ]
  },
  {
   "cell_type": "code",
   "execution_count": 1,
   "metadata": {},
   "outputs": [],
   "source": [
    "# Import necessary modules\n",
    "import numpy as np\n",
    "import pandas as pd\n",
    "import matplotlib.pyplot as plt\n",
    "%matplotlib inline\n",
    "from scipy import stats\n",
    "from datetime import datetime\n",
    "from functools import reduce\n",
    "import datetime\n",
    "import quandl\n",
    "\n",
    "from statsmodels.tsa.stattools import adfuller,grangercausalitytests\n",
    "from statsmodels.tsa.stattools import ccovf,ccf,periodogram\n",
    "from statsmodels.graphics.tsaplots import plot_acf,plot_pacf\n",
    "import scipy.stats as sp # SciPy for linear regression.\n",
    "\n",
    "quandl.ApiConfig.api_key = '-kesKc4A8jkkBwyX3rSX'"
   ]
  },
  {
   "cell_type": "code",
   "execution_count": 80,
   "metadata": {},
   "outputs": [
    {
     "data": {
      "text/html": [
       "<div>\n",
       "<style scoped>\n",
       "    .dataframe tbody tr th:only-of-type {\n",
       "        vertical-align: middle;\n",
       "    }\n",
       "\n",
       "    .dataframe tbody tr th {\n",
       "        vertical-align: top;\n",
       "    }\n",
       "\n",
       "    .dataframe thead th {\n",
       "        text-align: right;\n",
       "    }\n",
       "</style>\n",
       "<table border=\"1\" class=\"dataframe\">\n",
       "  <thead>\n",
       "    <tr style=\"text-align: right;\">\n",
       "      <th></th>\n",
       "      <th>FRED/AHETPI - Value</th>\n",
       "      <th>FRED/CPIAUCSL - Value</th>\n",
       "      <th>FRED/TWEXBPA - Value</th>\n",
       "      <th>FRED/GDPC1 - Value</th>\n",
       "      <th>FRED/FEDFUNDS - Value</th>\n",
       "      <th>FRED/FYFSD - Value</th>\n",
       "      <th>FRED/UNRATE - Value</th>\n",
       "      <th>FRED/NETEXC - Value</th>\n",
       "    </tr>\n",
       "    <tr>\n",
       "      <th>Date</th>\n",
       "      <th></th>\n",
       "      <th></th>\n",
       "      <th></th>\n",
       "      <th></th>\n",
       "      <th></th>\n",
       "      <th></th>\n",
       "      <th></th>\n",
       "      <th></th>\n",
       "    </tr>\n",
       "  </thead>\n",
       "  <tbody>\n",
       "    <tr>\n",
       "      <th>2014-12-31</th>\n",
       "      <td>20.72</td>\n",
       "      <td>236.252</td>\n",
       "      <td>90.4614</td>\n",
       "      <td>17143.038</td>\n",
       "      <td>0.12</td>\n",
       "      <td>-484793.0</td>\n",
       "      <td>5.6</td>\n",
       "      <td>-617.916</td>\n",
       "    </tr>\n",
       "    <tr>\n",
       "      <th>2015-12-31</th>\n",
       "      <td>21.24</td>\n",
       "      <td>237.817</td>\n",
       "      <td>98.9911</td>\n",
       "      <td>17468.902</td>\n",
       "      <td>0.24</td>\n",
       "      <td>-441960.0</td>\n",
       "      <td>5.0</td>\n",
       "      <td>-752.787</td>\n",
       "    </tr>\n",
       "    <tr>\n",
       "      <th>2016-12-31</th>\n",
       "      <td>21.77</td>\n",
       "      <td>242.772</td>\n",
       "      <td>103.3297</td>\n",
       "      <td>17824.231</td>\n",
       "      <td>0.54</td>\n",
       "      <td>-584651.0</td>\n",
       "      <td>4.7</td>\n",
       "      <td>-834.625</td>\n",
       "    </tr>\n",
       "    <tr>\n",
       "      <th>2017-12-31</th>\n",
       "      <td>22.31</td>\n",
       "      <td>247.901</td>\n",
       "      <td>96.4675</td>\n",
       "      <td>18322.464</td>\n",
       "      <td>1.30</td>\n",
       "      <td>-665446.0</td>\n",
       "      <td>4.1</td>\n",
       "      <td>-883.789</td>\n",
       "    </tr>\n",
       "    <tr>\n",
       "      <th>2018-12-31</th>\n",
       "      <td>22.71</td>\n",
       "      <td>251.597</td>\n",
       "      <td>99.3349</td>\n",
       "      <td>18732.720</td>\n",
       "      <td>1.91</td>\n",
       "      <td>NaN</td>\n",
       "      <td>3.8</td>\n",
       "      <td>-962.441</td>\n",
       "    </tr>\n",
       "  </tbody>\n",
       "</table>\n",
       "</div>"
      ],
      "text/plain": [
       "            FRED/AHETPI - Value  FRED/CPIAUCSL - Value  FRED/TWEXBPA - Value  \\\n",
       "Date                                                                           \n",
       "2014-12-31                20.72                236.252               90.4614   \n",
       "2015-12-31                21.24                237.817               98.9911   \n",
       "2016-12-31                21.77                242.772              103.3297   \n",
       "2017-12-31                22.31                247.901               96.4675   \n",
       "2018-12-31                22.71                251.597               99.3349   \n",
       "\n",
       "            FRED/GDPC1 - Value  FRED/FEDFUNDS - Value  FRED/FYFSD - Value  \\\n",
       "Date                                                                        \n",
       "2014-12-31           17143.038                   0.12           -484793.0   \n",
       "2015-12-31           17468.902                   0.24           -441960.0   \n",
       "2016-12-31           17824.231                   0.54           -584651.0   \n",
       "2017-12-31           18322.464                   1.30           -665446.0   \n",
       "2018-12-31           18732.720                   1.91                 NaN   \n",
       "\n",
       "            FRED/UNRATE - Value  FRED/NETEXC - Value  \n",
       "Date                                                  \n",
       "2014-12-31                  5.6             -617.916  \n",
       "2015-12-31                  5.0             -752.787  \n",
       "2016-12-31                  4.7             -834.625  \n",
       "2017-12-31                  4.1             -883.789  \n",
       "2018-12-31                  3.8             -962.441  "
      ]
     },
     "execution_count": 80,
     "metadata": {},
     "output_type": "execute_result"
    }
   ],
   "source": [
    "def parser(x):\n",
    "    return datetime.strptime('190'+x, '%Y-%m')\n",
    "\n",
    "data = quandl.get([\"FRED/AHETPI\", \"FRED/CPIAUCSL\", \"FRED/TWEXBPA\", \"FRED/GDPC1\", \n",
    "                    \"FRED/FEDFUNDS\", \"FRED/FYFSD\", \"FRED/UNRATE\", \"FRED/NETEXC\"], \n",
    "                  start_date=\"1986-01-01\", end_date=\"2018-07-31\",collapse = 'annual',date_parser=parser)\n",
    "data.tail()"
   ]
  },
  {
   "cell_type": "code",
   "execution_count": 81,
   "metadata": {},
   "outputs": [],
   "source": [
    "data.columns = ['FRED/AHETPI - Value', 'FRED/CPIAUCSL - Value', 'FRED/TWEXBPA - Value', 'FRED/GDPC1 - Value',\n",
    "                'FRED/FEDFUNDS - Value', 'FRED/FYFSD - Value', 'FRED/UNRATE - Value', 'FRED/NETEXC - Value']\n",
    "\n",
    "data.rename(columns={'FRED/AHETPI - Value': 'hour_earn', \n",
    "                      'FRED/CPIAUCSL - Value': 'CPI',\n",
    "                      'FRED/TWEXBPA - Value' : 'real_USD_index',\n",
    "                      'FRED/GDPC1 - Value': 'real_GDP', \n",
    "                     'FRED/FEDFUNDS - Value': 'fed_fundsR',\n",
    "                      'FRED/FYFSD - Value': 'surplus_deficit', \n",
    "                      'FRED/NETEXC - Value': 'real_net_exports',\n",
    "                     'FRED/UNRATE - Value': 'unempR', \n",
    "                     }, inplace=True)"
   ]
  },
  {
   "cell_type": "code",
   "execution_count": 84,
   "metadata": {},
   "outputs": [
    {
     "data": {
      "text/html": [
       "<div>\n",
       "<style scoped>\n",
       "    .dataframe tbody tr th:only-of-type {\n",
       "        vertical-align: middle;\n",
       "    }\n",
       "\n",
       "    .dataframe tbody tr th {\n",
       "        vertical-align: top;\n",
       "    }\n",
       "\n",
       "    .dataframe thead th {\n",
       "        text-align: right;\n",
       "    }\n",
       "</style>\n",
       "<table border=\"1\" class=\"dataframe\">\n",
       "  <thead>\n",
       "    <tr style=\"text-align: right;\">\n",
       "      <th></th>\n",
       "      <th>hour_earn</th>\n",
       "      <th>CPI</th>\n",
       "      <th>real_USD_index</th>\n",
       "      <th>real_GDP</th>\n",
       "      <th>fed_fundsR</th>\n",
       "      <th>surplus_deficit</th>\n",
       "      <th>unempR</th>\n",
       "      <th>real_net_exports</th>\n",
       "      <th>real_wage</th>\n",
       "    </tr>\n",
       "    <tr>\n",
       "      <th>Date</th>\n",
       "      <th></th>\n",
       "      <th></th>\n",
       "      <th></th>\n",
       "      <th></th>\n",
       "      <th></th>\n",
       "      <th></th>\n",
       "      <th></th>\n",
       "      <th></th>\n",
       "      <th></th>\n",
       "    </tr>\n",
       "  </thead>\n",
       "  <tbody>\n",
       "    <tr>\n",
       "      <th>1986-12-31</th>\n",
       "      <td>9.01</td>\n",
       "      <td>110.8</td>\n",
       "      <td>105.0487</td>\n",
       "      <td>8308.021</td>\n",
       "      <td>6.91</td>\n",
       "      <td>-221227.0</td>\n",
       "      <td>6.6</td>\n",
       "      <td>-226.253</td>\n",
       "      <td>0.081318</td>\n",
       "    </tr>\n",
       "    <tr>\n",
       "      <th>1987-12-31</th>\n",
       "      <td>9.28</td>\n",
       "      <td>115.6</td>\n",
       "      <td>92.3699</td>\n",
       "      <td>8680.162</td>\n",
       "      <td>6.77</td>\n",
       "      <td>-149730.0</td>\n",
       "      <td>5.7</td>\n",
       "      <td>-210.399</td>\n",
       "      <td>0.080277</td>\n",
       "    </tr>\n",
       "    <tr>\n",
       "      <th>1988-12-31</th>\n",
       "      <td>9.60</td>\n",
       "      <td>120.7</td>\n",
       "      <td>89.8466</td>\n",
       "      <td>9009.913</td>\n",
       "      <td>8.76</td>\n",
       "      <td>-155178.0</td>\n",
       "      <td>5.3</td>\n",
       "      <td>-164.985</td>\n",
       "      <td>0.079536</td>\n",
       "    </tr>\n",
       "    <tr>\n",
       "      <th>1989-12-31</th>\n",
       "      <td>9.98</td>\n",
       "      <td>126.3</td>\n",
       "      <td>93.1746</td>\n",
       "      <td>9257.128</td>\n",
       "      <td>8.45</td>\n",
       "      <td>-152639.0</td>\n",
       "      <td>5.4</td>\n",
       "      <td>-124.182</td>\n",
       "      <td>0.079018</td>\n",
       "    </tr>\n",
       "    <tr>\n",
       "      <th>1990-12-31</th>\n",
       "      <td>10.34</td>\n",
       "      <td>134.2</td>\n",
       "      <td>88.2319</td>\n",
       "      <td>9312.937</td>\n",
       "      <td>7.31</td>\n",
       "      <td>-221036.0</td>\n",
       "      <td>6.3</td>\n",
       "      <td>-74.627</td>\n",
       "      <td>0.077049</td>\n",
       "    </tr>\n",
       "  </tbody>\n",
       "</table>\n",
       "</div>"
      ],
      "text/plain": [
       "            hour_earn    CPI  real_USD_index  real_GDP  fed_fundsR  \\\n",
       "Date                                                                 \n",
       "1986-12-31       9.01  110.8        105.0487  8308.021        6.91   \n",
       "1987-12-31       9.28  115.6         92.3699  8680.162        6.77   \n",
       "1988-12-31       9.60  120.7         89.8466  9009.913        8.76   \n",
       "1989-12-31       9.98  126.3         93.1746  9257.128        8.45   \n",
       "1990-12-31      10.34  134.2         88.2319  9312.937        7.31   \n",
       "\n",
       "            surplus_deficit  unempR  real_net_exports  real_wage  \n",
       "Date                                                              \n",
       "1986-12-31        -221227.0     6.6          -226.253   0.081318  \n",
       "1987-12-31        -149730.0     5.7          -210.399   0.080277  \n",
       "1988-12-31        -155178.0     5.3          -164.985   0.079536  \n",
       "1989-12-31        -152639.0     5.4          -124.182   0.079018  \n",
       "1990-12-31        -221036.0     6.3           -74.627   0.077049  "
      ]
     },
     "execution_count": 84,
     "metadata": {},
     "output_type": "execute_result"
    }
   ],
   "source": [
    "data['real_wage'] = data1['hour_earn']/data1['CPI'] # Add a column that calculates the real wage\n",
    "data1.head()"
   ]
  },
  {
   "cell_type": "code",
   "execution_count": 85,
   "metadata": {},
   "outputs": [
    {
     "data": {
      "text/plain": [
       "hour_earn           0\n",
       "CPI                 0\n",
       "real_USD_index      0\n",
       "real_GDP            0\n",
       "fed_fundsR          0\n",
       "surplus_deficit     1\n",
       "unempR              0\n",
       "real_net_exports    0\n",
       "real_wage           1\n",
       "dtype: int64"
      ]
     },
     "execution_count": 85,
     "metadata": {},
     "output_type": "execute_result"
    }
   ],
   "source": [
    "data.isna().sum() # number of missing values in all variables"
   ]
  },
  {
   "cell_type": "code",
   "execution_count": 86,
   "metadata": {},
   "outputs": [],
   "source": [
    "data.dropna(inplace = True) # drop the rows with missing values"
   ]
  },
  {
   "cell_type": "code",
   "execution_count": 87,
   "metadata": {},
   "outputs": [
    {
     "data": {
      "image/png": "[encoded data removed]",
      "text/plain": [
       "<Figure size 864x504 with 1 Axes>"
      ]
     },
     "metadata": {
      "needs_background": "light"
     },
     "output_type": "display_data"
    }
   ],
   "source": [
    "ax = data[['real_wage', 'real_USD_index']].pct_change().plot(figsize=(12,7),\n",
    "                                            xlim=['1987-01-01','2018-08-01'], title='Year-over-Year % Change')\n",
    "ax.autoscale(axis='x',tight=True)\n",
    "ax.set(ylabel='% Change');"
   ]
  },
  {
   "cell_type": "markdown",
   "metadata": {},
   "source": [
    "The graph shows that the % change in real USD index appears to be a good leading indicator of the % change in real wage. This is because a change in the direction (or movement) of the USD index subsequently causes the real wage to move. The variables seem to be positively correlation and might have a spurious relationship.Further, the USD index is highly volatile (indicating higher variance than the real wage series). This is because changes in the macroeconomic variables (such as inflation, treasury rates, goods traded) of each country reprented in the USD index alters the index level. Alternatively, real wages in the US are more likely affected by domestic factors."
   ]
  },
  {
   "cell_type": "code",
   "execution_count": 88,
   "metadata": {},
   "outputs": [
    {
     "data": {
      "text/plain": [
       "<matplotlib.axes._subplots.AxesSubplot at 0x1c2662b978>"
      ]
     },
     "execution_count": 88,
     "metadata": {},
     "output_type": "execute_result"
    },
    {
     "data": {
      "image/png": "[encoded data removed]",
      "text/plain": [
       "<Figure size 432x288 with 1 Axes>"
      ]
     },
     "metadata": {
      "needs_background": "light"
     },
     "output_type": "display_data"
    }
   ],
   "source": [
    "data['real_wage'].plot() # plot shows an upward trend starting early 1990s"
   ]
  },
  {
   "cell_type": "code",
   "execution_count": 89,
   "metadata": {},
   "outputs": [],
   "source": [
    "change = data[['real_wage', 'real_USD_index', 'unempR', 'fed_fundsR', \n",
    "                'surplus_deficit','real_GDP', 'real_net_exports' ]].pct_change()\n",
    "change.dropna(inplace = True)"
   ]
  },
  {
   "cell_type": "code",
   "execution_count": 90,
   "metadata": {},
   "outputs": [
    {
     "name": "stdout",
     "output_type": "stream",
     "text": [
      "<class 'pandas.core.frame.DataFrame'>\n",
      "DatetimeIndex: 31 entries, 1987-12-31 to 2017-12-31\n",
      "Data columns (total 7 columns):\n",
      "real_wage           31 non-null float64\n",
      "real_USD_index      31 non-null float64\n",
      "unempR              31 non-null float64\n",
      "fed_fundsR          31 non-null float64\n",
      "surplus_deficit     31 non-null float64\n",
      "real_GDP            31 non-null float64\n",
      "real_net_exports    31 non-null float64\n",
      "dtypes: float64(7)\n",
      "memory usage: 1.9 KB\n"
     ]
    }
   ],
   "source": [
    "change.info()"
   ]
  },
  {
   "cell_type": "code",
   "execution_count": 91,
   "metadata": {},
   "outputs": [
    {
     "data": {
      "text/html": [
       "<div>\n",
       "<style scoped>\n",
       "    .dataframe tbody tr th:only-of-type {\n",
       "        vertical-align: middle;\n",
       "    }\n",
       "\n",
       "    .dataframe tbody tr th {\n",
       "        vertical-align: top;\n",
       "    }\n",
       "\n",
       "    .dataframe thead th {\n",
       "        text-align: right;\n",
       "    }\n",
       "</style>\n",
       "<table border=\"1\" class=\"dataframe\">\n",
       "  <thead>\n",
       "    <tr style=\"text-align: right;\">\n",
       "      <th></th>\n",
       "      <th>real_wage</th>\n",
       "      <th>real_USD_index</th>\n",
       "      <th>unempR</th>\n",
       "      <th>fed_fundsR</th>\n",
       "      <th>surplus_deficit</th>\n",
       "      <th>real_GDP</th>\n",
       "      <th>real_net_exports</th>\n",
       "    </tr>\n",
       "    <tr>\n",
       "      <th>Date</th>\n",
       "      <th></th>\n",
       "      <th></th>\n",
       "      <th></th>\n",
       "      <th></th>\n",
       "      <th></th>\n",
       "      <th></th>\n",
       "      <th></th>\n",
       "    </tr>\n",
       "  </thead>\n",
       "  <tbody>\n",
       "    <tr>\n",
       "      <th>1987-12-31</th>\n",
       "      <td>-0.012800</td>\n",
       "      <td>-0.120694</td>\n",
       "      <td>-0.136364</td>\n",
       "      <td>-0.020260</td>\n",
       "      <td>-0.323184</td>\n",
       "      <td>0.044793</td>\n",
       "      <td>-0.070072</td>\n",
       "    </tr>\n",
       "    <tr>\n",
       "      <th>1988-12-31</th>\n",
       "      <td>-0.009228</td>\n",
       "      <td>-0.027317</td>\n",
       "      <td>-0.070175</td>\n",
       "      <td>0.293944</td>\n",
       "      <td>0.036385</td>\n",
       "      <td>0.037989</td>\n",
       "      <td>-0.215847</td>\n",
       "    </tr>\n",
       "    <tr>\n",
       "      <th>1989-12-31</th>\n",
       "      <td>-0.006511</td>\n",
       "      <td>0.037041</td>\n",
       "      <td>0.018868</td>\n",
       "      <td>-0.035388</td>\n",
       "      <td>-0.016362</td>\n",
       "      <td>0.027438</td>\n",
       "      <td>-0.247313</td>\n",
       "    </tr>\n",
       "    <tr>\n",
       "      <th>1990-12-31</th>\n",
       "      <td>-0.024919</td>\n",
       "      <td>-0.053048</td>\n",
       "      <td>0.166667</td>\n",
       "      <td>-0.134911</td>\n",
       "      <td>0.448096</td>\n",
       "      <td>0.006029</td>\n",
       "      <td>-0.399051</td>\n",
       "    </tr>\n",
       "    <tr>\n",
       "      <th>1991-12-31</th>\n",
       "      <td>-0.000770</td>\n",
       "      <td>-0.011970</td>\n",
       "      <td>0.158730</td>\n",
       "      <td>-0.393981</td>\n",
       "      <td>0.218073</td>\n",
       "      <td>0.011664</td>\n",
       "      <td>-0.264060</td>\n",
       "    </tr>\n",
       "  </tbody>\n",
       "</table>\n",
       "</div>"
      ],
      "text/plain": [
       "            real_wage  real_USD_index    unempR  fed_fundsR  surplus_deficit  \\\n",
       "Date                                                                           \n",
       "1987-12-31  -0.012800       -0.120694 -0.136364   -0.020260        -0.323184   \n",
       "1988-12-31  -0.009228       -0.027317 -0.070175    0.293944         0.036385   \n",
       "1989-12-31  -0.006511        0.037041  0.018868   -0.035388        -0.016362   \n",
       "1990-12-31  -0.024919       -0.053048  0.166667   -0.134911         0.448096   \n",
       "1991-12-31  -0.000770       -0.011970  0.158730   -0.393981         0.218073   \n",
       "\n",
       "            real_GDP  real_net_exports  \n",
       "Date                                    \n",
       "1987-12-31  0.044793         -0.070072  \n",
       "1988-12-31  0.037989         -0.215847  \n",
       "1989-12-31  0.027438         -0.247313  \n",
       "1990-12-31  0.006029         -0.399051  \n",
       "1991-12-31  0.011664         -0.264060  "
      ]
     },
     "execution_count": 91,
     "metadata": {},
     "output_type": "execute_result"
    }
   ],
   "source": [
    "change.head()"
   ]
  },
  {
   "cell_type": "markdown",
   "metadata": {},
   "source": [
    "Before testing if the time series presents any peculiarities that might cause biases such as omitted variable bias and make the regression estimates inconsistent, I have checked for stationarity. A stationary series has the same properties (constant mean and variance) through time, and have any trends. i have done that by making the ACF plots and conducting the Augmented Dickey Fuller Test (ADF). "
   ]
  },
  {
   "cell_type": "markdown",
   "metadata": {},
   "source": [
    "## Test for Stationarity of the level and % change variables"
   ]
  },
  {
   "cell_type": "code",
   "execution_count": 92,
   "metadata": {},
   "outputs": [
    {
     "name": "stdout",
     "output_type": "stream",
     "text": [
      "     Augmented Dickey-Fuller Test on \"real_wage\" \n",
      "     -----------------------------------------------\n",
      "  Null Hypothesis: Data has unit too. Non-Stationary.\n",
      "  Significance Level    = 0.05\n",
      "  Test Statistic        = -3.407\n",
      "  No. of Lags Chosen    = 3\n",
      "  Critical Value 1%     = -3.7\n",
      "  Critical Value 5%     = -2.976\n",
      "  Critical Value 10%    = -2.628\n",
      " => P-Value = 0.0107. Rejecting null hypothesis.\n",
      " => Series is stationary.\n",
      "\n",
      "\n",
      "     Augmented Dickey-Fuller Test on \"real_USD_index\" \n",
      "     -----------------------------------------------\n",
      "  Null Hypothesis: Data has unit too. Non-Stationary.\n",
      "  Significance Level    = 0.05\n",
      "  Test Statistic        = -4.8965\n",
      "  No. of Lags Chosen    = 0\n",
      "  Critical Value 1%     = -3.67\n",
      "  Critical Value 5%     = -2.964\n",
      "  Critical Value 10%    = -2.621\n",
      " => P-Value = 0.0. Rejecting null hypothesis.\n",
      " => Series is stationary.\n",
      "\n",
      "\n",
      "     Augmented Dickey-Fuller Test on \"unempR\" \n",
      "     -----------------------------------------------\n",
      "  Null Hypothesis: Data has unit too. Non-Stationary.\n",
      "  Significance Level    = 0.05\n",
      "  Test Statistic        = -3.8814\n",
      "  No. of Lags Chosen    = 1\n",
      "  Critical Value 1%     = -3.679\n",
      "  Critical Value 5%     = -2.968\n",
      "  Critical Value 10%    = -2.623\n",
      " => P-Value = 0.0022. Rejecting null hypothesis.\n",
      " => Series is stationary.\n",
      "\n",
      "\n",
      "     Augmented Dickey-Fuller Test on \"fed_fundsR\" \n",
      "     -----------------------------------------------\n",
      "  Null Hypothesis: Data has unit too. Non-Stationary.\n",
      "  Significance Level    = 0.05\n",
      "  Test Statistic        = -0.2024\n",
      "  No. of Lags Chosen    = 9\n",
      "  Critical Value 1%     = -3.788\n",
      "  Critical Value 5%     = -3.013\n",
      "  Critical Value 10%    = -2.646\n",
      " => P-Value = 0.9382. Weak evidence to reject the Null Hypothesis.\n",
      " => Series is non-stationary.\n",
      "\n",
      "\n",
      "     Augmented Dickey-Fuller Test on \"surplus_deficit\" \n",
      "     -----------------------------------------------\n",
      "  Null Hypothesis: Data has unit too. Non-Stationary.\n",
      "  Significance Level    = 0.05\n",
      "  Test Statistic        = -5.0065\n",
      "  No. of Lags Chosen    = 0\n",
      "  Critical Value 1%     = -3.67\n",
      "  Critical Value 5%     = -2.964\n",
      "  Critical Value 10%    = -2.621\n",
      " => P-Value = 0.0. Rejecting null hypothesis.\n",
      " => Series is stationary.\n",
      "\n",
      "\n",
      "     Augmented Dickey-Fuller Test on \"real_GDP\" \n",
      "     -----------------------------------------------\n",
      "  Null Hypothesis: Data has unit too. Non-Stationary.\n",
      "  Significance Level    = 0.05\n",
      "  Test Statistic        = -3.529\n",
      "  No. of Lags Chosen    = 0\n",
      "  Critical Value 1%     = -3.67\n",
      "  Critical Value 5%     = -2.964\n",
      "  Critical Value 10%    = -2.621\n",
      " => P-Value = 0.0073. Rejecting null hypothesis.\n",
      " => Series is stationary.\n",
      "\n",
      "\n",
      "     Augmented Dickey-Fuller Test on \"real_net_exports\" \n",
      "     -----------------------------------------------\n",
      "  Null Hypothesis: Data has unit too. Non-Stationary.\n",
      "  Significance Level    = 0.05\n",
      "  Test Statistic        = -3.2969\n",
      "  No. of Lags Chosen    = 9\n",
      "  Critical Value 1%     = -3.788\n",
      "  Critical Value 5%     = -3.013\n",
      "  Critical Value 10%    = -2.646\n",
      " => P-Value = 0.015. Rejecting null hypothesis.\n",
      " => Series is stationary.\n",
      "\n",
      "\n"
     ]
    }
   ],
   "source": [
    "def adfuller_test(series, signif = 0.05, name = '', verbose = False):\n",
    "    \"\"\"Perform ADFuller to test for stationarity of a given series and print report\"\"\"\n",
    "    \n",
    "    r = adfuller(series, autolag = 'AIC')\n",
    "    output = {'test_statistic': round(r[0], 4), 'pvalue': round(r[1], 4), 'n_lags':round(r[2], 4), 'n_obs':r[3]}\n",
    "    p_value = output['pvalue']\n",
    "    def adjust(val, length = 6): return str(val).ljust(length)\n",
    "    \n",
    "    # print sumamry\n",
    "    print(f'     Augmented Dickey-Fuller Test on \"{name}\"', \"\\n    \", '-'*47)\n",
    "    print(f'  Null Hypothesis: Data has unit too. Non-Stationary.')\n",
    "    print(f'  Significance Level    = {signif}')\n",
    "    print(f'  Test Statistic        = {output[\"test_statistic\"]}')\n",
    "    print(f'  No. of Lags Chosen    = {output[\"n_lags\"]}')\n",
    "          \n",
    "    for key, val in r[4].items():\n",
    "          print(f'  Critical Value {adjust(key)} = {round(val, 3)}')\n",
    "          \n",
    "    if p_value <= signif:\n",
    "          print(f\" => P-Value = {p_value}. Rejecting null hypothesis.\")\n",
    "          print(f\" => Series is stationary.\")\n",
    "    else:\n",
    "          print(f\" => P-Value = {p_value}. Weak evidence to reject the Null Hypothesis.\")\n",
    "          print(f\" => Series is non-stationary.\")\n",
    "          \n",
    "     # ADF Test on each column\n",
    "for name, column in change.iteritems():\n",
    "          adfuller_test(column, name = column.name)\n",
    "          print('\\n')"
   ]
  },
  {
   "cell_type": "markdown",
   "metadata": {},
   "source": [
    "Since the % change variables - real wage and real USD index are stationary, they don't have a spurious relationship. So, if we regress real wage on the real USD index (or vice versa), the R squared will not be very high and the regression coefficients will likely not be significant. \n",
    "\n",
    "Both the % change series are stationary i.e. are integrated of order 0- I(0). Thus, no trend exists, implying that the series are not cointegrated. Had the series been non-stationary, the regression coefficents would be unbiased as as that would indicate a spurious regression. In level-terms, only the real wage variable has a unit root. Hence, regressing real wage on USD index will yield an unreasonabily high R squared value. This will apprear to generate a  statistically relationship between real wage and USD index, albeit they might be independent."
   ]
  },
  {
   "cell_type": "code",
   "execution_count": 93,
   "metadata": {},
   "outputs": [
    {
     "name": "stdout",
     "output_type": "stream",
     "text": [
      "     Augmented Dickey-Fuller Test on \"hour_earn\" \n",
      "     -----------------------------------------------\n",
      "  Null Hypothesis: Data has unit too. Non-Stationary.\n",
      "  Significance Level    = 0.05\n",
      "  Test Statistic        = 1.9153\n",
      "  No. of Lags Chosen    = 3\n",
      "  Critical Value 1%     = -3.689\n",
      "  Critical Value 5%     = -2.972\n",
      "  Critical Value 10%    = -2.625\n",
      " => P-Value = 0.9986. Weak evidence to reject the Null Hypothesis.\n",
      " => Series is non-stationary.\n",
      "\n",
      "\n",
      "     Augmented Dickey-Fuller Test on \"CPI\" \n",
      "     -----------------------------------------------\n",
      "  Null Hypothesis: Data has unit too. Non-Stationary.\n",
      "  Significance Level    = 0.05\n",
      "  Test Statistic        = -1.0564\n",
      "  No. of Lags Chosen    = 0\n",
      "  Critical Value 1%     = -3.661\n",
      "  Critical Value 5%     = -2.961\n",
      "  Critical Value 10%    = -2.619\n",
      " => P-Value = 0.7321. Weak evidence to reject the Null Hypothesis.\n",
      " => Series is non-stationary.\n",
      "\n",
      "\n",
      "     Augmented Dickey-Fuller Test on \"real_USD_index\" \n",
      "     -----------------------------------------------\n",
      "  Null Hypothesis: Data has unit too. Non-Stationary.\n",
      "  Significance Level    = 0.05\n",
      "  Test Statistic        = -3.1763\n",
      "  No. of Lags Chosen    = 10\n",
      "  Critical Value 1%     = -3.788\n",
      "  Critical Value 5%     = -3.013\n",
      "  Critical Value 10%    = -2.646\n",
      " => P-Value = 0.0214. Rejecting null hypothesis.\n",
      " => Series is stationary.\n",
      "\n",
      "\n",
      "     Augmented Dickey-Fuller Test on \"real_GDP\" \n",
      "     -----------------------------------------------\n",
      "  Null Hypothesis: Data has unit too. Non-Stationary.\n",
      "  Significance Level    = 0.05\n",
      "  Test Statistic        = 0.0145\n",
      "  No. of Lags Chosen    = 2\n",
      "  Critical Value 1%     = -3.679\n",
      "  Critical Value 5%     = -2.968\n",
      "  Critical Value 10%    = -2.623\n",
      " => P-Value = 0.9597. Weak evidence to reject the Null Hypothesis.\n",
      " => Series is non-stationary.\n",
      "\n",
      "\n",
      "     Augmented Dickey-Fuller Test on \"fed_fundsR\" \n",
      "     -----------------------------------------------\n",
      "  Null Hypothesis: Data has unit too. Non-Stationary.\n",
      "  Significance Level    = 0.05\n",
      "  Test Statistic        = 2.0584\n",
      "  No. of Lags Chosen    = 10\n",
      "  Critical Value 1%     = -3.788\n",
      "  Critical Value 5%     = -3.013\n",
      "  Critical Value 10%    = -2.646\n",
      " => P-Value = 0.9987. Weak evidence to reject the Null Hypothesis.\n",
      " => Series is non-stationary.\n",
      "\n",
      "\n",
      "     Augmented Dickey-Fuller Test on \"surplus_deficit\" \n",
      "     -----------------------------------------------\n",
      "  Null Hypothesis: Data has unit too. Non-Stationary.\n",
      "  Significance Level    = 0.05\n",
      "  Test Statistic        = -3.2568\n",
      "  No. of Lags Chosen    = 10\n",
      "  Critical Value 1%     = -3.788\n",
      "  Critical Value 5%     = -3.013\n",
      "  Critical Value 10%    = -2.646\n",
      " => P-Value = 0.0169. Rejecting null hypothesis.\n",
      " => Series is stationary.\n",
      "\n",
      "\n",
      "     Augmented Dickey-Fuller Test on \"unempR\" \n",
      "     -----------------------------------------------\n",
      "  Null Hypothesis: Data has unit too. Non-Stationary.\n",
      "  Significance Level    = 0.05\n",
      "  Test Statistic        = -3.2958\n",
      "  No. of Lags Chosen    = 1\n",
      "  Critical Value 1%     = -3.67\n",
      "  Critical Value 5%     = -2.964\n",
      "  Critical Value 10%    = -2.621\n",
      " => P-Value = 0.0151. Rejecting null hypothesis.\n",
      " => Series is stationary.\n",
      "\n",
      "\n",
      "     Augmented Dickey-Fuller Test on \"real_net_exports\" \n",
      "     -----------------------------------------------\n",
      "  Null Hypothesis: Data has unit too. Non-Stationary.\n",
      "  Significance Level    = 0.05\n",
      "  Test Statistic        = -1.0591\n",
      "  No. of Lags Chosen    = 1\n",
      "  Critical Value 1%     = -3.67\n",
      "  Critical Value 5%     = -2.964\n",
      "  Critical Value 10%    = -2.621\n",
      " => P-Value = 0.7311. Weak evidence to reject the Null Hypothesis.\n",
      " => Series is non-stationary.\n",
      "\n",
      "\n",
      "     Augmented Dickey-Fuller Test on \"real_wage\" \n",
      "     -----------------------------------------------\n",
      "  Null Hypothesis: Data has unit too. Non-Stationary.\n",
      "  Significance Level    = 0.05\n",
      "  Test Statistic        = -0.1174\n",
      "  No. of Lags Chosen    = 4\n",
      "  Critical Value 1%     = -3.7\n",
      "  Critical Value 5%     = -2.976\n",
      "  Critical Value 10%    = -2.628\n",
      " => P-Value = 0.9477. Weak evidence to reject the Null Hypothesis.\n",
      " => Series is non-stationary.\n",
      "\n",
      "\n"
     ]
    }
   ],
   "source": [
    "# ADF Test on each column\n",
    "for name, column in data.iteritems():\n",
    "          adfuller_test(column, name = column.name)\n",
    "          print('\\n')"
   ]
  },
  {
   "cell_type": "markdown",
   "metadata": {},
   "source": [
    "## Autocorrelation and Partial Autocorrelation Plots (ACF and PACF)"
   ]
  },
  {
   "cell_type": "markdown",
   "metadata": {},
   "source": [
    "Non-stationarity of the % change series is also evident from the Aurocorrelation plots as the spikes lie within the significance level. Autocorrelation measures how the lagged values of the series are linearly related. "
   ]
  },
  {
   "cell_type": "code",
   "execution_count": 94,
   "metadata": {},
   "outputs": [
    {
     "data": {
      "image/png": "[encoded data removed]",
      "text/plain": [
       "<Figure size 432x288 with 1 Axes>"
      ]
     },
     "metadata": {
      "needs_background": "light"
     },
     "output_type": "display_data"
    }
   ],
   "source": [
    "title = 'Autocorrelation: Yearly % Change Real USD Index'\n",
    "lags = 20\n",
    "plot_acf(change['real_USD_index'],title=title,lags=lags);"
   ]
  },
  {
   "cell_type": "code",
   "execution_count": 95,
   "metadata": {},
   "outputs": [
    {
     "data": {
      "image/png": "[encoded data removed]",
      "text/plain": [
       "<Figure size 432x288 with 1 Axes>"
      ]
     },
     "metadata": {
      "needs_background": "light"
     },
     "output_type": "display_data"
    }
   ],
   "source": [
    "title = 'Autocorrelation: Yearly % Change Real Wage'\n",
    "lags = 20\n",
    "plot_acf(change['real_wage'],title=title,lags=lags);"
   ]
  },
  {
   "cell_type": "code",
   "execution_count": 96,
   "metadata": {},
   "outputs": [
    {
     "data": {
      "image/png": "[encoded data removed]",
      "text/plain": [
       "<Figure size 432x288 with 1 Axes>"
      ]
     },
     "metadata": {
      "needs_background": "light"
     },
     "output_type": "display_data"
    }
   ],
   "source": [
    "title = 'Autocorrelation: Real Wage'\n",
    "lags = 20\n",
    "plot_acf(data1['real_wage'],title=title,lags=lags);"
   ]
  },
  {
   "cell_type": "markdown",
   "metadata": {},
   "source": [
    "## Granger Causality Tests"
   ]
  },
  {
   "cell_type": "markdown",
   "metadata": {},
   "source": [
    "A hypothesis test that may indicate the presence of causality is the Granger Causality Test. It also determines if a time series is useful in forecasting another time series. While we can measure the correlation between the level and percent change in real wage and USD index, the correlation may change across time. Thus, causality may influence change in real wage to alter the change in the behavior of USD index through the years, affecting the correlation.\n",
    "\n",
    "However, there may be a third variable - confounding variable, that can change the relationship between real wages and USD index. Examples of the confounding variable could be GDP growth rate, whether a nation is in a recession or not, whether US Dollar and other major currencies in the baset have appreciated or depreciated.Economically, a recession affects both real wage and USD index as the dollar will likely depreciate and the real wages will fall as unemployment rises. Alernatively, a higher GDP growth will appreciate USD and will generally increase the real wages if the labor market is tight.\n",
    "\n",
    "If we exlcude one or more of these variables, the regression model may violate a Gauss Markov assumption of strict exogeneity. Therefore, the OLS estimator will be biased and inconsistent.\n",
    "\n",
    "In the granger causality test, the null hypothesis is that lagged value of x do not explain the variations in y. So, x_t doesn't granger cause y_t."
   ]
  },
  {
   "cell_type": "code",
   "execution_count": 97,
   "metadata": {},
   "outputs": [
    {
     "name": "stdout",
     "output_type": "stream",
     "text": [
      "\n",
      "Granger Causality\n",
      "number of lags (no zero) 1\n",
      "ssr based F test:         F=0.7034  , p=0.4090  , df_denom=27, df_num=1\n",
      "ssr based chi2 test:   chi2=0.7815  , p=0.3767  , df=1\n",
      "likelihood ratio test: chi2=0.7715  , p=0.3797  , df=1\n",
      "parameter F test:         F=0.7034  , p=0.4090  , df_denom=27, df_num=1\n",
      "\n",
      "Granger Causality\n",
      "number of lags (no zero) 2\n",
      "ssr based F test:         F=0.5178  , p=0.6023  , df_denom=24, df_num=2\n",
      "ssr based chi2 test:   chi2=1.2514  , p=0.5349  , df=2\n",
      "likelihood ratio test: chi2=1.2251  , p=0.5420  , df=2\n",
      "parameter F test:         F=0.5178  , p=0.6023  , df_denom=24, df_num=2\n",
      "\n",
      "Granger Causality\n",
      "number of lags (no zero) 3\n",
      "ssr based F test:         F=0.8387  , p=0.4878  , df_denom=21, df_num=3\n",
      "ssr based chi2 test:   chi2=3.3549  , p=0.3401  , df=3\n",
      "likelihood ratio test: chi2=3.1687  , p=0.3663  , df=3\n",
      "parameter F test:         F=0.8387  , p=0.4878  , df_denom=21, df_num=3\n",
      "\n",
      "Granger Causality\n",
      "number of lags (no zero) 4\n",
      "ssr based F test:         F=1.2579  , p=0.3226  , df_denom=18, df_num=4\n",
      "ssr based chi2 test:   chi2=7.5475  , p=0.1096  , df=4\n",
      "likelihood ratio test: chi2=6.6555  , p=0.1553  , df=4\n",
      "parameter F test:         F=1.2579  , p=0.3226  , df_denom=18, df_num=4\n",
      "\n",
      "Granger Causality\n",
      "number of lags (no zero) 5\n",
      "ssr based F test:         F=1.1228  , p=0.3901  , df_denom=15, df_num=5\n",
      "ssr based chi2 test:   chi2=9.7306  , p=0.0832  , df=5\n",
      "likelihood ratio test: chi2=8.2657  , p=0.1422  , df=5\n",
      "parameter F test:         F=1.1228  , p=0.3901  , df_denom=15, df_num=5\n"
     ]
    }
   ],
   "source": [
    "# Does real_usd_index granger cause real_wage?\n",
    "grangercausalitytests(change[['real_wage', 'real_USD_index']],maxlag=5);"
   ]
  },
  {
   "cell_type": "markdown",
   "metadata": {},
   "source": [
    "Since the p-values at lags from 1 to 5 lags are very high, we fail to reject the null hypothesis. So, the % change in real_USD_index does NOT Granger cause the % change in real_wage. The p-value is still higher than the significance level even at lags greater than 5. So, the past values of real_usd_index do not have a statistically significant effect on the current value of real_wage. Here, we consider the past values of real_wage as regressors."
   ]
  },
  {
   "cell_type": "code",
   "execution_count": 98,
   "metadata": {},
   "outputs": [
    {
     "name": "stdout",
     "output_type": "stream",
     "text": [
      "\n",
      "Granger Causality\n",
      "number of lags (no zero) 1\n",
      "ssr based F test:         F=0.3734  , p=0.5463  , df_denom=27, df_num=1\n",
      "ssr based chi2 test:   chi2=0.4148  , p=0.5195  , df=1\n",
      "likelihood ratio test: chi2=0.4120  , p=0.5210  , df=1\n",
      "parameter F test:         F=0.3734  , p=0.5463  , df_denom=27, df_num=1\n",
      "\n",
      "Granger Causality\n",
      "number of lags (no zero) 2\n",
      "ssr based F test:         F=0.4517  , p=0.6418  , df_denom=24, df_num=2\n",
      "ssr based chi2 test:   chi2=1.0916  , p=0.5794  , df=2\n",
      "likelihood ratio test: chi2=1.0716  , p=0.5852  , df=2\n",
      "parameter F test:         F=0.4517  , p=0.6418  , df_denom=24, df_num=2\n",
      "\n",
      "Granger Causality\n",
      "number of lags (no zero) 3\n",
      "ssr based F test:         F=0.6522  , p=0.5904  , df_denom=21, df_num=3\n",
      "ssr based chi2 test:   chi2=2.6088  , p=0.4560  , df=3\n",
      "likelihood ratio test: chi2=2.4943  , p=0.4763  , df=3\n",
      "parameter F test:         F=0.6522  , p=0.5904  , df_denom=21, df_num=3\n",
      "\n",
      "Granger Causality\n",
      "number of lags (no zero) 4\n",
      "ssr based F test:         F=0.8669  , p=0.5026  , df_denom=18, df_num=4\n",
      "ssr based chi2 test:   chi2=5.2012  , p=0.2673  , df=4\n",
      "likelihood ratio test: chi2=4.7565  , p=0.3132  , df=4\n",
      "parameter F test:         F=0.8669  , p=0.5026  , df_denom=18, df_num=4\n",
      "\n",
      "Granger Causality\n",
      "number of lags (no zero) 5\n",
      "ssr based F test:         F=0.7026  , p=0.6302  , df_denom=15, df_num=5\n",
      "ssr based chi2 test:   chi2=6.0894  , p=0.2976  , df=5\n",
      "likelihood ratio test: chi2=5.4711  , p=0.3611  , df=5\n",
      "parameter F test:         F=0.7026  , p=0.6302  , df_denom=15, df_num=5\n"
     ]
    }
   ],
   "source": [
    "# Does real_wage granger cause real_USD_index?\n",
    "grangercausalitytests(change[['real_USD_index', 'real_wage']],maxlag=5);"
   ]
  },
  {
   "cell_type": "markdown",
   "metadata": {},
   "source": [
    "## Correlation Coefficient"
   ]
  },
  {
   "cell_type": "markdown",
   "metadata": {},
   "source": [
    "Likewise, the % change in real wage does NOT Granger cause the % change in the real USD index."
   ]
  },
  {
   "cell_type": "code",
   "execution_count": 99,
   "metadata": {},
   "outputs": [
    {
     "data": {
      "text/plain": [
       "(0.5728261130787866, 0.000757540217909627)"
      ]
     },
     "execution_count": 99,
     "metadata": {},
     "output_type": "execute_result"
    }
   ],
   "source": [
    "from scipy import stats\n",
    "# Y and Z are numpy arrays or lists of variables \n",
    "stats.pearsonr(change['real_wage'], change['real_USD_index'])"
   ]
  },
  {
   "cell_type": "code",
   "execution_count": 100,
   "metadata": {},
   "outputs": [
    {
     "data": {
      "text/plain": [
       "(0.12796170398943302, 0.48521550432726634)"
      ]
     },
     "execution_count": 100,
     "metadata": {},
     "output_type": "execute_result"
    }
   ],
   "source": [
    "stats.pearsonr(data1['real_wage'], data1['real_USD_index'])"
   ]
  },
  {
   "cell_type": "markdown",
   "metadata": {},
   "source": [
    "While the % change in real wage and % change in real USD index have a low correlation coefficient of 57 percent, the levelled values of real wage and real USD index have extremely low correlation of 16 percent. This likely suggests that there exists a suprious correlation between the % change variables. "
   ]
  },
  {
   "cell_type": "markdown",
   "metadata": {},
   "source": [
    "Since we are assessing two time series data, causal inference isn't as important as it is in a cross-sectional data. If we are using the time series data to produce forecasts, the predictive power is more important than the explanatory power. There is a major drawbacks in assessing causal relationships in time series using methods such as OLS. Since time series is a realization of the stochastic process, data are not randomly sampled, as opposed to the data in cross-sectional studies. \n"
   ]
  },
  {
   "cell_type": "markdown",
   "metadata": {},
   "source": [
    "## Linear Regression"
   ]
  },
  {
   "cell_type": "markdown",
   "metadata": {},
   "source": [
    "Since p-value of 0.05845 > 0.05, we fail to reject the null hypothesis. Real usd index does not explain the change in yearly wage. The small R squared of 33.33 percent indicates that the model only explains 33 percent, and the residuals explain the rest, indicating that the model is a poor fit. So, even though the line plot of yearly % change in real wage and real USD index seem to indicate that they comove, it is actually very insignificant. So, they are not related."
   ]
  },
  {
   "cell_type": "markdown",
   "metadata": {},
   "source": [
    "### Change: usd_index ~ beta * real_wage + error"
   ]
  },
  {
   "cell_type": "code",
   "execution_count": 101,
   "metadata": {},
   "outputs": [
    {
     "data": {
      "text/html": [
       "<table class=\"simpletable\">\n",
       "<caption>OLS Regression Results</caption>\n",
       "<tr>\n",
       "  <th>Dep. Variable:</th>        <td>real_wage</td>    <th>  R-squared:         </th> <td>   0.328</td>\n",
       "</tr>\n",
       "<tr>\n",
       "  <th>Model:</th>                   <td>OLS</td>       <th>  Adj. R-squared:    </th> <td>   0.305</td>\n",
       "</tr>\n",
       "<tr>\n",
       "  <th>Method:</th>             <td>Least Squares</td>  <th>  F-statistic:       </th> <td>   14.16</td>\n",
       "</tr>\n",
       "<tr>\n",
       "  <th>Date:</th>             <td>Fri, 31 Jan 2020</td> <th>  Prob (F-statistic):</th> <td>0.000758</td>\n",
       "</tr>\n",
       "<tr>\n",
       "  <th>Time:</th>                 <td>01:57:18</td>     <th>  Log-Likelihood:    </th> <td>  98.436</td>\n",
       "</tr>\n",
       "<tr>\n",
       "  <th>No. Observations:</th>      <td>    31</td>      <th>  AIC:               </th> <td>  -192.9</td>\n",
       "</tr>\n",
       "<tr>\n",
       "  <th>Df Residuals:</th>          <td>    29</td>      <th>  BIC:               </th> <td>  -190.0</td>\n",
       "</tr>\n",
       "<tr>\n",
       "  <th>Df Model:</th>              <td>     1</td>      <th>                     </th>     <td> </td>   \n",
       "</tr>\n",
       "<tr>\n",
       "  <th>Covariance Type:</th>      <td>nonrobust</td>    <th>                     </th>     <td> </td>   \n",
       "</tr>\n",
       "</table>\n",
       "<table class=\"simpletable\">\n",
       "<tr>\n",
       "         <td></td>           <th>coef</th>     <th>std err</th>      <th>t</th>      <th>P>|t|</th>  <th>[0.025</th>    <th>0.975]</th>  \n",
       "</tr>\n",
       "<tr>\n",
       "  <th>const</th>          <td>    0.0035</td> <td>    0.002</td> <td>    1.881</td> <td> 0.070</td> <td>   -0.000</td> <td>    0.007</td>\n",
       "</tr>\n",
       "<tr>\n",
       "  <th>real_USD_index</th> <td>    0.1337</td> <td>    0.036</td> <td>    3.763</td> <td> 0.001</td> <td>    0.061</td> <td>    0.206</td>\n",
       "</tr>\n",
       "</table>\n",
       "<table class=\"simpletable\">\n",
       "<tr>\n",
       "  <th>Omnibus:</th>       <td> 2.821</td> <th>  Durbin-Watson:     </th> <td>   1.581</td>\n",
       "</tr>\n",
       "<tr>\n",
       "  <th>Prob(Omnibus):</th> <td> 0.244</td> <th>  Jarque-Bera (JB):  </th> <td>   1.500</td>\n",
       "</tr>\n",
       "<tr>\n",
       "  <th>Skew:</th>          <td> 0.388</td> <th>  Prob(JB):          </th> <td>   0.472</td>\n",
       "</tr>\n",
       "<tr>\n",
       "  <th>Kurtosis:</th>      <td> 3.747</td> <th>  Cond. No.          </th> <td>    18.9</td>\n",
       "</tr>\n",
       "</table><br/><br/>Warnings:<br/>[1] Standard Errors assume that the covariance matrix of the errors is correctly specified."
      ],
      "text/plain": [
       "<class 'statsmodels.iolib.summary.Summary'>\n",
       "\"\"\"\n",
       "                            OLS Regression Results                            \n",
       "==============================================================================\n",
       "Dep. Variable:              real_wage   R-squared:                       0.328\n",
       "Model:                            OLS   Adj. R-squared:                  0.305\n",
       "Method:                 Least Squares   F-statistic:                     14.16\n",
       "Date:                Fri, 31 Jan 2020   Prob (F-statistic):           0.000758\n",
       "Time:                        01:57:18   Log-Likelihood:                 98.436\n",
       "No. Observations:                  31   AIC:                            -192.9\n",
       "Df Residuals:                      29   BIC:                            -190.0\n",
       "Df Model:                           1                                         \n",
       "Covariance Type:            nonrobust                                         \n",
       "==================================================================================\n",
       "                     coef    std err          t      P>|t|      [0.025      0.975]\n",
       "----------------------------------------------------------------------------------\n",
       "const              0.0035      0.002      1.881      0.070      -0.000       0.007\n",
       "real_USD_index     0.1337      0.036      3.763      0.001       0.061       0.206\n",
       "==============================================================================\n",
       "Omnibus:                        2.821   Durbin-Watson:                   1.581\n",
       "Prob(Omnibus):                  0.244   Jarque-Bera (JB):                1.500\n",
       "Skew:                           0.388   Prob(JB):                        0.472\n",
       "Kurtosis:                       3.747   Cond. No.                         18.9\n",
       "==============================================================================\n",
       "\n",
       "Warnings:\n",
       "[1] Standard Errors assume that the covariance matrix of the errors is correctly specified.\n",
       "\"\"\""
      ]
     },
     "execution_count": 101,
     "metadata": {},
     "output_type": "execute_result"
    }
   ],
   "source": [
    "import statsmodels.api as sm # import statsmodels \n",
    "X = change['real_USD_index']\n",
    "y = change['real_wage']\n",
    "X = sm.add_constant(X) ## add an intercept (beta_0) to the model\n",
    "\n",
    "\n",
    "model = sm.OLS(y, X).fit() ## sm.OLS(output, input)\n",
    "predictions = model.predict(X)\n",
    "\n",
    "# Print out the statistics\n",
    "model.summary()"
   ]
  },
  {
   "cell_type": "markdown",
   "metadata": {},
   "source": [
    "## Diagnostic tests in the original model"
   ]
  },
  {
   "cell_type": "code",
   "execution_count": 102,
   "metadata": {},
   "outputs": [
    {
     "data": {
      "text/plain": [
       "18.919412129522186"
      ]
     },
     "execution_count": 102,
     "metadata": {},
     "output_type": "execute_result"
    }
   ],
   "source": [
    "# condition number - multicollinearity\n",
    "np.linalg.cond(model.model.exog)"
   ]
  },
  {
   "cell_type": "code",
   "execution_count": 103,
   "metadata": {},
   "outputs": [
    {
     "data": {
      "text/plain": [
       "[('Lagrange multiplier statistic', 0.2083490752087318),\n",
       " ('p-value', 0.6480644705216295),\n",
       " ('f-value', 0.19622602230101763),\n",
       " ('f p-value', 0.6610713782193837)]"
      ]
     },
     "execution_count": 103,
     "metadata": {},
     "output_type": "execute_result"
    }
   ],
   "source": [
    "# Breush-Pagan test: Heteroskedasticity\n",
    "import statsmodels.stats.api as sms\n",
    "from statsmodels.compat import lzip\n",
    "name = ['Lagrange multiplier statistic', 'p-value',\n",
    "        'f-value', 'f p-value']\n",
    "test = sms.het_breuschpagan(model.resid, model.model.exog)\n",
    "lzip(name, test)"
   ]
  },
  {
   "cell_type": "markdown",
   "metadata": {},
   "source": [
    "## Improved Model"
   ]
  },
  {
   "cell_type": "code",
   "execution_count": 104,
   "metadata": {},
   "outputs": [
    {
     "data": {
      "text/html": [
       "<table class=\"simpletable\">\n",
       "<caption>OLS Regression Results</caption>\n",
       "<tr>\n",
       "  <th>Dep. Variable:</th>        <td>real_wage</td>    <th>  R-squared:         </th> <td>   0.446</td>\n",
       "</tr>\n",
       "<tr>\n",
       "  <th>Model:</th>                   <td>OLS</td>       <th>  Adj. R-squared:    </th> <td>   0.384</td>\n",
       "</tr>\n",
       "<tr>\n",
       "  <th>Method:</th>             <td>Least Squares</td>  <th>  F-statistic:       </th> <td>   7.238</td>\n",
       "</tr>\n",
       "<tr>\n",
       "  <th>Date:</th>             <td>Fri, 31 Jan 2020</td> <th>  Prob (F-statistic):</th>  <td>0.00103</td>\n",
       "</tr>\n",
       "<tr>\n",
       "  <th>Time:</th>                 <td>01:57:20</td>     <th>  Log-Likelihood:    </th> <td>  101.42</td>\n",
       "</tr>\n",
       "<tr>\n",
       "  <th>No. Observations:</th>      <td>    31</td>      <th>  AIC:               </th> <td>  -194.8</td>\n",
       "</tr>\n",
       "<tr>\n",
       "  <th>Df Residuals:</th>          <td>    27</td>      <th>  BIC:               </th> <td>  -189.1</td>\n",
       "</tr>\n",
       "<tr>\n",
       "  <th>Df Model:</th>              <td>     3</td>      <th>                     </th>     <td> </td>   \n",
       "</tr>\n",
       "<tr>\n",
       "  <th>Covariance Type:</th>      <td>nonrobust</td>    <th>                     </th>     <td> </td>   \n",
       "</tr>\n",
       "</table>\n",
       "<table class=\"simpletable\">\n",
       "<tr>\n",
       "          <td></td>            <th>coef</th>     <th>std err</th>      <th>t</th>      <th>P>|t|</th>  <th>[0.025</th>    <th>0.975]</th>  \n",
       "</tr>\n",
       "<tr>\n",
       "  <th>const</th>            <td>    0.0023</td> <td>    0.002</td> <td>    1.212</td> <td> 0.236</td> <td>   -0.002</td> <td>    0.006</td>\n",
       "</tr>\n",
       "<tr>\n",
       "  <th>real_USD_index</th>   <td>    0.1012</td> <td>    0.037</td> <td>    2.732</td> <td> 0.011</td> <td>    0.025</td> <td>    0.177</td>\n",
       "</tr>\n",
       "<tr>\n",
       "  <th>unempR</th>           <td>    0.0252</td> <td>    0.012</td> <td>    2.064</td> <td> 0.049</td> <td>    0.000</td> <td>    0.050</td>\n",
       "</tr>\n",
       "<tr>\n",
       "  <th>real_net_exports</th> <td>    0.0171</td> <td>    0.008</td> <td>    2.046</td> <td> 0.051</td> <td>-4.77e-05</td> <td>    0.034</td>\n",
       "</tr>\n",
       "</table>\n",
       "<table class=\"simpletable\">\n",
       "<tr>\n",
       "  <th>Omnibus:</th>       <td> 1.598</td> <th>  Durbin-Watson:     </th> <td>   1.798</td>\n",
       "</tr>\n",
       "<tr>\n",
       "  <th>Prob(Omnibus):</th> <td> 0.450</td> <th>  Jarque-Bera (JB):  </th> <td>   0.611</td>\n",
       "</tr>\n",
       "<tr>\n",
       "  <th>Skew:</th>          <td> 0.239</td> <th>  Prob(JB):          </th> <td>   0.737</td>\n",
       "</tr>\n",
       "<tr>\n",
       "  <th>Kurtosis:</th>      <td> 3.494</td> <th>  Cond. No.          </th> <td>    21.2</td>\n",
       "</tr>\n",
       "</table><br/><br/>Warnings:<br/>[1] Standard Errors assume that the covariance matrix of the errors is correctly specified."
      ],
      "text/plain": [
       "<class 'statsmodels.iolib.summary.Summary'>\n",
       "\"\"\"\n",
       "                            OLS Regression Results                            \n",
       "==============================================================================\n",
       "Dep. Variable:              real_wage   R-squared:                       0.446\n",
       "Model:                            OLS   Adj. R-squared:                  0.384\n",
       "Method:                 Least Squares   F-statistic:                     7.238\n",
       "Date:                Fri, 31 Jan 2020   Prob (F-statistic):            0.00103\n",
       "Time:                        01:57:20   Log-Likelihood:                 101.42\n",
       "No. Observations:                  31   AIC:                            -194.8\n",
       "Df Residuals:                      27   BIC:                            -189.1\n",
       "Df Model:                           3                                         \n",
       "Covariance Type:            nonrobust                                         \n",
       "====================================================================================\n",
       "                       coef    std err          t      P>|t|      [0.025      0.975]\n",
       "------------------------------------------------------------------------------------\n",
       "const                0.0023      0.002      1.212      0.236      -0.002       0.006\n",
       "real_USD_index       0.1012      0.037      2.732      0.011       0.025       0.177\n",
       "unempR               0.0252      0.012      2.064      0.049       0.000       0.050\n",
       "real_net_exports     0.0171      0.008      2.046      0.051   -4.77e-05       0.034\n",
       "==============================================================================\n",
       "Omnibus:                        1.598   Durbin-Watson:                   1.798\n",
       "Prob(Omnibus):                  0.450   Jarque-Bera (JB):                0.611\n",
       "Skew:                           0.239   Prob(JB):                        0.737\n",
       "Kurtosis:                       3.494   Cond. No.                         21.2\n",
       "==============================================================================\n",
       "\n",
       "Warnings:\n",
       "[1] Standard Errors assume that the covariance matrix of the errors is correctly specified.\n",
       "\"\"\""
      ]
     },
     "execution_count": 104,
     "metadata": {},
     "output_type": "execute_result"
    }
   ],
   "source": [
    "X = change[['real_USD_index', 'unempR',  'real_net_exports']]\n",
    "y = change[ 'real_wage']\n",
    "X = sm.add_constant(X) ## let's add an intercept (beta_0) to our model\n",
    "\n",
    "\n",
    "model1 = sm.OLS(y, X).fit() ## sm.OLS(output, input)\n",
    "predictions = model1.predict(X)\n",
    "\n",
    "# Print out the statistics\n",
    "model1.summary()"
   ]
  },
  {
   "cell_type": "markdown",
   "metadata": {},
   "source": [
    "### Diagnostic tests in the improved model"
   ]
  },
  {
   "cell_type": "markdown",
   "metadata": {},
   "source": [
    "an object of class OLSInfluence holds attributes and methods that allow users to assess the influence of each observation. For example, we can compute and extract the first few rows of DFbetas by:"
   ]
  },
  {
   "cell_type": "code",
   "execution_count": 105,
   "metadata": {},
   "outputs": [
    {
     "data": {
      "text/plain": [
       "21.184170160032235"
      ]
     },
     "execution_count": 105,
     "metadata": {},
     "output_type": "execute_result"
    }
   ],
   "source": [
    "# condition number - multicollinearity\n",
    "np.linalg.cond(model1.model.exog)"
   ]
  },
  {
   "cell_type": "code",
   "execution_count": 106,
   "metadata": {},
   "outputs": [
    {
     "data": {
      "text/plain": [
       "[('Lagrange multiplier statistic', 1.9793216491815815),\n",
       " ('p-value', 0.5767096478579399),\n",
       " ('f-value', 0.6138345433311297),\n",
       " ('f p-value', 0.6119517035905855)]"
      ]
     },
     "execution_count": 106,
     "metadata": {},
     "output_type": "execute_result"
    }
   ],
   "source": [
    "# Breush-Pagan test: Heteroskedasticity\n",
    "name = ['Lagrange multiplier statistic', 'p-value',\n",
    "        'f-value', 'f p-value']\n",
    "test = sms.het_breuschpagan(model1.resid, model1.model.exog)\n",
    "lzip(name, test)"
   ]
  },
  {
   "cell_type": "markdown",
   "metadata": {},
   "source": [
    "### Regression : level real wage ~ beta0+ beta1 * real USD index + beta2 * surplus deficit + beta3 * real_GDP"
   ]
  },
  {
   "cell_type": "code",
   "execution_count": 107,
   "metadata": {},
   "outputs": [
    {
     "data": {
      "text/html": [
       "<table class=\"simpletable\">\n",
       "<caption>OLS Regression Results</caption>\n",
       "<tr>\n",
       "  <th>Dep. Variable:</th>        <td>real_wage</td>    <th>  R-squared:         </th> <td>   0.882</td>\n",
       "</tr>\n",
       "<tr>\n",
       "  <th>Model:</th>                   <td>OLS</td>       <th>  Adj. R-squared:    </th> <td>   0.870</td>\n",
       "</tr>\n",
       "<tr>\n",
       "  <th>Method:</th>             <td>Least Squares</td>  <th>  F-statistic:       </th> <td>   69.95</td>\n",
       "</tr>\n",
       "<tr>\n",
       "  <th>Date:</th>             <td>Fri, 31 Jan 2020</td> <th>  Prob (F-statistic):</th> <td>4.02e-13</td>\n",
       "</tr>\n",
       "<tr>\n",
       "  <th>Time:</th>                 <td>01:57:24</td>     <th>  Log-Likelihood:    </th> <td>  163.83</td>\n",
       "</tr>\n",
       "<tr>\n",
       "  <th>No. Observations:</th>      <td>    32</td>      <th>  AIC:               </th> <td>  -319.7</td>\n",
       "</tr>\n",
       "<tr>\n",
       "  <th>Df Residuals:</th>          <td>    28</td>      <th>  BIC:               </th> <td>  -313.8</td>\n",
       "</tr>\n",
       "<tr>\n",
       "  <th>Df Model:</th>              <td>     3</td>      <th>                     </th>     <td> </td>   \n",
       "</tr>\n",
       "<tr>\n",
       "  <th>Covariance Type:</th>      <td>nonrobust</td>    <th>                     </th>     <td> </td>   \n",
       "</tr>\n",
       "</table>\n",
       "<table class=\"simpletable\">\n",
       "<tr>\n",
       "         <td></td>            <th>coef</th>     <th>std err</th>      <th>t</th>      <th>P>|t|</th>  <th>[0.025</th>    <th>0.975]</th>  \n",
       "</tr>\n",
       "<tr>\n",
       "  <th>const</th>           <td>    0.0514</td> <td>    0.004</td> <td>   11.857</td> <td> 0.000</td> <td>    0.043</td> <td>    0.060</td>\n",
       "</tr>\n",
       "<tr>\n",
       "  <th>real_USD_index</th>  <td>    0.0002</td> <td> 4.85e-05</td> <td>    3.699</td> <td> 0.001</td> <td>    8e-05</td> <td>    0.000</td>\n",
       "</tr>\n",
       "<tr>\n",
       "  <th>surplus_deficit</th> <td>-4.024e-09</td> <td> 1.04e-09</td> <td>   -3.866</td> <td> 0.001</td> <td>-6.16e-09</td> <td>-1.89e-09</td>\n",
       "</tr>\n",
       "<tr>\n",
       "  <th>real_GDP</th>        <td> 9.596e-07</td> <td> 1.18e-07</td> <td>    8.158</td> <td> 0.000</td> <td> 7.19e-07</td> <td>  1.2e-06</td>\n",
       "</tr>\n",
       "</table>\n",
       "<table class=\"simpletable\">\n",
       "<tr>\n",
       "  <th>Omnibus:</th>       <td> 2.409</td> <th>  Durbin-Watson:     </th> <td>   0.565</td>\n",
       "</tr>\n",
       "<tr>\n",
       "  <th>Prob(Omnibus):</th> <td> 0.300</td> <th>  Jarque-Bera (JB):  </th> <td>   2.167</td>\n",
       "</tr>\n",
       "<tr>\n",
       "  <th>Skew:</th>          <td> 0.562</td> <th>  Prob(JB):          </th> <td>   0.338</td>\n",
       "</tr>\n",
       "<tr>\n",
       "  <th>Kurtosis:</th>      <td> 2.400</td> <th>  Cond. No.          </th> <td>8.64e+06</td>\n",
       "</tr>\n",
       "</table><br/><br/>Warnings:<br/>[1] Standard Errors assume that the covariance matrix of the errors is correctly specified.<br/>[2] The condition number is large, 8.64e+06. This might indicate that there are<br/>strong multicollinearity or other numerical problems."
      ],
      "text/plain": [
       "<class 'statsmodels.iolib.summary.Summary'>\n",
       "\"\"\"\n",
       "                            OLS Regression Results                            \n",
       "==============================================================================\n",
       "Dep. Variable:              real_wage   R-squared:                       0.882\n",
       "Model:                            OLS   Adj. R-squared:                  0.870\n",
       "Method:                 Least Squares   F-statistic:                     69.95\n",
       "Date:                Fri, 31 Jan 2020   Prob (F-statistic):           4.02e-13\n",
       "Time:                        01:57:24   Log-Likelihood:                 163.83\n",
       "No. Observations:                  32   AIC:                            -319.7\n",
       "Df Residuals:                      28   BIC:                            -313.8\n",
       "Df Model:                           3                                         \n",
       "Covariance Type:            nonrobust                                         \n",
       "===================================================================================\n",
       "                      coef    std err          t      P>|t|      [0.025      0.975]\n",
       "-----------------------------------------------------------------------------------\n",
       "const               0.0514      0.004     11.857      0.000       0.043       0.060\n",
       "real_USD_index      0.0002   4.85e-05      3.699      0.001       8e-05       0.000\n",
       "surplus_deficit -4.024e-09   1.04e-09     -3.866      0.001   -6.16e-09   -1.89e-09\n",
       "real_GDP         9.596e-07   1.18e-07      8.158      0.000    7.19e-07     1.2e-06\n",
       "==============================================================================\n",
       "Omnibus:                        2.409   Durbin-Watson:                   0.565\n",
       "Prob(Omnibus):                  0.300   Jarque-Bera (JB):                2.167\n",
       "Skew:                           0.562   Prob(JB):                        0.338\n",
       "Kurtosis:                       2.400   Cond. No.                     8.64e+06\n",
       "==============================================================================\n",
       "\n",
       "Warnings:\n",
       "[1] Standard Errors assume that the covariance matrix of the errors is correctly specified.\n",
       "[2] The condition number is large, 8.64e+06. This might indicate that there are\n",
       "strong multicollinearity or other numerical problems.\n",
       "\"\"\""
      ]
     },
     "execution_count": 107,
     "metadata": {},
     "output_type": "execute_result"
    }
   ],
   "source": [
    "X = data1[['real_USD_index',  'surplus_deficit', 'real_GDP' ]]\n",
    "y = data1['real_wage']\n",
    "X = sm.add_constant(X) \n",
    "\n",
    "\n",
    "model2 = sm.OLS(y, X).fit() ## sm.OLS(output, input)\n",
    "predictions = model2.predict(X)\n",
    "\n",
    "# Print out the statistics\n",
    "model2.summary()"
   ]
  },
  {
   "cell_type": "code",
   "execution_count": 108,
   "metadata": {},
   "outputs": [
    {
     "data": {
      "text/html": [
       "<table class=\"simpletable\">\n",
       "<caption>OLS Regression Results</caption>\n",
       "<tr>\n",
       "  <th>Dep. Variable:</th>        <td>real_wage</td>    <th>  R-squared:         </th> <td>   0.016</td>\n",
       "</tr>\n",
       "<tr>\n",
       "  <th>Model:</th>                   <td>OLS</td>       <th>  Adj. R-squared:    </th> <td>  -0.016</td>\n",
       "</tr>\n",
       "<tr>\n",
       "  <th>Method:</th>             <td>Least Squares</td>  <th>  F-statistic:       </th> <td>  0.4994</td>\n",
       "</tr>\n",
       "<tr>\n",
       "  <th>Date:</th>             <td>Fri, 31 Jan 2020</td> <th>  Prob (F-statistic):</th>  <td> 0.485</td> \n",
       "</tr>\n",
       "<tr>\n",
       "  <th>Time:</th>                 <td>01:57:24</td>     <th>  Log-Likelihood:    </th> <td>  129.86</td>\n",
       "</tr>\n",
       "<tr>\n",
       "  <th>No. Observations:</th>      <td>    32</td>      <th>  AIC:               </th> <td>  -255.7</td>\n",
       "</tr>\n",
       "<tr>\n",
       "  <th>Df Residuals:</th>          <td>    30</td>      <th>  BIC:               </th> <td>  -252.8</td>\n",
       "</tr>\n",
       "<tr>\n",
       "  <th>Df Model:</th>              <td>     1</td>      <th>                     </th>     <td> </td>   \n",
       "</tr>\n",
       "<tr>\n",
       "  <th>Covariance Type:</th>      <td>nonrobust</td>    <th>                     </th>     <td> </td>   \n",
       "</tr>\n",
       "</table>\n",
       "<table class=\"simpletable\">\n",
       "<tr>\n",
       "         <td></td>           <th>coef</th>     <th>std err</th>      <th>t</th>      <th>P>|t|</th>  <th>[0.025</th>    <th>0.975]</th>  \n",
       "</tr>\n",
       "<tr>\n",
       "  <th>const</th>          <td>    0.0756</td> <td>    0.010</td> <td>    7.734</td> <td> 0.000</td> <td>    0.056</td> <td>    0.096</td>\n",
       "</tr>\n",
       "<tr>\n",
       "  <th>real_USD_index</th> <td> 7.324e-05</td> <td>    0.000</td> <td>    0.707</td> <td> 0.485</td> <td>   -0.000</td> <td>    0.000</td>\n",
       "</tr>\n",
       "</table>\n",
       "<table class=\"simpletable\">\n",
       "<tr>\n",
       "  <th>Omnibus:</th>       <td> 8.807</td> <th>  Durbin-Watson:     </th> <td>   0.046</td>\n",
       "</tr>\n",
       "<tr>\n",
       "  <th>Prob(Omnibus):</th> <td> 0.012</td> <th>  Jarque-Bera (JB):  </th> <td>   2.503</td>\n",
       "</tr>\n",
       "<tr>\n",
       "  <th>Skew:</th>          <td> 0.222</td> <th>  Prob(JB):          </th> <td>   0.286</td>\n",
       "</tr>\n",
       "<tr>\n",
       "  <th>Kurtosis:</th>      <td> 1.704</td> <th>  Cond. No.          </th> <td>1.21e+03</td>\n",
       "</tr>\n",
       "</table><br/><br/>Warnings:<br/>[1] Standard Errors assume that the covariance matrix of the errors is correctly specified.<br/>[2] The condition number is large, 1.21e+03. This might indicate that there are<br/>strong multicollinearity or other numerical problems."
      ],
      "text/plain": [
       "<class 'statsmodels.iolib.summary.Summary'>\n",
       "\"\"\"\n",
       "                            OLS Regression Results                            \n",
       "==============================================================================\n",
       "Dep. Variable:              real_wage   R-squared:                       0.016\n",
       "Model:                            OLS   Adj. R-squared:                 -0.016\n",
       "Method:                 Least Squares   F-statistic:                    0.4994\n",
       "Date:                Fri, 31 Jan 2020   Prob (F-statistic):              0.485\n",
       "Time:                        01:57:24   Log-Likelihood:                 129.86\n",
       "No. Observations:                  32   AIC:                            -255.7\n",
       "Df Residuals:                      30   BIC:                            -252.8\n",
       "Df Model:                           1                                         \n",
       "Covariance Type:            nonrobust                                         \n",
       "==================================================================================\n",
       "                     coef    std err          t      P>|t|      [0.025      0.975]\n",
       "----------------------------------------------------------------------------------\n",
       "const              0.0756      0.010      7.734      0.000       0.056       0.096\n",
       "real_USD_index  7.324e-05      0.000      0.707      0.485      -0.000       0.000\n",
       "==============================================================================\n",
       "Omnibus:                        8.807   Durbin-Watson:                   0.046\n",
       "Prob(Omnibus):                  0.012   Jarque-Bera (JB):                2.503\n",
       "Skew:                           0.222   Prob(JB):                        0.286\n",
       "Kurtosis:                       1.704   Cond. No.                     1.21e+03\n",
       "==============================================================================\n",
       "\n",
       "Warnings:\n",
       "[1] Standard Errors assume that the covariance matrix of the errors is correctly specified.\n",
       "[2] The condition number is large, 1.21e+03. This might indicate that there are\n",
       "strong multicollinearity or other numerical problems.\n",
       "\"\"\""
      ]
     },
     "execution_count": 108,
     "metadata": {},
     "output_type": "execute_result"
    }
   ],
   "source": [
    "X = data1[['real_USD_index']]\n",
    "y = data1['real_wage']\n",
    "X = sm.add_constant(X) \n",
    "# Note the difference in argument order\n",
    "model3 = sm.OLS(y, X).fit() ## sm.OLS(output, input)\n",
    "predictions = model3.predict(X)\n",
    "\n",
    "# Print out the statistics\n",
    "model3.summary()"
   ]
  },
  {
   "cell_type": "markdown",
   "metadata": {},
   "source": [
    "The above regression output shows evidence of spurious relationship in the leveled values of real wage and real USD index as the R squared value is very high - 0.992, and the p-value of the real USD index of 0.000 shows an apparent significant relation, when in fact, they have very low correlation. "
   ]
  },
  {
   "cell_type": "markdown",
   "metadata": {},
   "source": [
    "Condition Index is an indicator of testing the presence of multicollinearity. A CI of more tha 30 indicates that the variables are highly correlated to each other. In the original and improved regressions, the CI is 18.9, and 26.2, respectively. These are well below the threshold, indicating that the data has no multicolloinearity.\n",
    "\n",
    "In the Breush-Pagan test, the null hypothesis is that the errors are homoskedastic. In the original and final models, the p-values are 0.64 and 0.17, respectively, so we don't have sufficient evidence to reject the null hypothesis. Hence, the errors have constant variance."
   ]
  },
  {
   "cell_type": "markdown",
   "metadata": {},
   "source": [
    "Overall, the graph representing seemingly strong relationship between he % change in real wage and USD index is inaccurate as seen in the regression estimates and causality tests. Furthermore, the graphs depicts yearly $ change from Jan 1987 to June 2018. Collapsing the dataset to calculate yearly (and not montly) change futher reduces (to 32 observations) from the already few observations we had to begin with. Since the sample is not representative of the population, estimates from a statistical model will be biased, and the model will not be trustworty. \n",
    "\n",
    "Because of the small sized dataset, we cannot rely on the The Jarque-Bera test for normality. It measures whether the sample has kurtosis and skewness that corresponds to a normal distribution. This test is reliable on large datasets (greater than 2000 observations) as the test statistic has an asymptotic Chi square distribution."
   ]
  },
  {
   "cell_type": "code",
   "execution_count": null,
   "metadata": {},
   "outputs": [],
   "source": []
  }
 ],
 "metadata": {
  "kernelspec": {
   "display_name": "Python 3",
   "language": "python",
   "name": "python3"
  },
  "language_info": {
   "codemirror_mode": {
    "name": "ipython",
    "version": 3
   },
   "file_extension": ".py",
   "mimetype": "text/x-python",
   "name": "python",
   "nbconvert_exporter": "python",
   "pygments_lexer": "ipython3",
   "version": "3.7.3"
  }
 },
 "nbformat": 4,
 "nbformat_minor": 2
}
